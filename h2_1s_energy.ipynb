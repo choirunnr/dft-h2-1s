{
 "cells": [
  {
   "cell_type": "markdown",
   "id": "70891464",
   "metadata": {},
   "source": [
    "---\n",
    "# Density Functional Theory for H<sub>2</sub> Molecule\n",
    "## Part 2 - Calculation of Total Energy\n",
    "#### [C. N. Rangkuti ](https://quasi.id/team/staff/choi002.html) - [Research Center for Quantum Physics, BRIN, Indonesia](https://quantumresearch.id/)\n",
    "---"
   ]
  },
  {
   "cell_type": "markdown",
   "id": "fdf0518a",
   "metadata": {},
   "source": [
    "This program is a simulation of calculations for different bond lengths and the recording of the resulting values for HF_1s, XA_1s, HF_1s_KS, and XA_1s_KS into CSV files. After running the simulation, it then prints tables displaying the values that were calculated. The code opens four CSV files in write mode for recording the results of each type of calculation."
   ]
  },
  {
   "cell_type": "code",
   "execution_count": 1,
   "id": "5def9f44",
   "metadata": {},
   "outputs": [],
   "source": [
    "import math\n",
    "import numpy as np\n",
    "import scipy as sp\n",
    "from scipy.integrate import nquad"
   ]
  },
  {
   "cell_type": "code",
   "execution_count": 2,
   "id": "1180f85a",
   "metadata": {},
   "outputs": [],
   "source": [
    "from datetime import datetime \n",
    "import os\n",
    "import csv"
   ]
  },
  {
   "cell_type": "code",
   "execution_count": 3,
   "id": "1a77c631",
   "metadata": {},
   "outputs": [],
   "source": [
    "import matplotlib.pyplot as plt\n",
    "import seaborn as sns"
   ]
  },
  {
   "cell_type": "markdown",
   "id": "476c5550",
   "metadata": {},
   "source": [
    "The bond length values are specified, and lists to store the results for each type of calculation are initialized."
   ]
  },
  {
   "cell_type": "code",
   "execution_count": 4,
   "id": "732250d9",
   "metadata": {},
   "outputs": [],
   "source": [
    "alpha = 1.24\n",
    "bond_length = [0.5, 1.0, 1.4] #bond_length = np.linspace(0.5,3,26) # You can switch to spesific array for example: bond_length = [0.5, 1.0, 1.4]"
   ]
  },
  {
   "cell_type": "markdown",
   "id": "0c72e918",
   "metadata": {},
   "source": [
    "These are the definition of the functions needed in this calculation. S(R), K(R), J(R), Jp(R), L(R), Kp(R), and int_exp_rab(R)."
   ]
  },
  {
   "cell_type": "code",
   "execution_count": 5,
   "id": "61be038a",
   "metadata": {},
   "outputs": [],
   "source": [
    "def S(R):\n",
    "\n",
    "    w = alpha*R\n",
    "    w2= w*w\n",
    "\n",
    "    return math.exp(-w)*(1+w+w2/3)   \n",
    "\n",
    "def Sp(R):\n",
    "\n",
    "    w = alpha*R\n",
    "    w2= w*w\n",
    "\n",
    "    return math.exp(w)*(1-w+w2/3)\n",
    "\n",
    "def J(R):\n",
    "    \n",
    "    w = alpha*R\n",
    "    w2= w**2.0\n",
    "    \n",
    "    return -1/w+math.exp(-2*w)*(1+1/w)\n",
    "\n",
    "def Jp(R):\n",
    "    \n",
    "    w = alpha*R\n",
    "    w2= w*w\n",
    "    \n",
    "    return 1/w-math.exp(-2*w)*(1/w+11/8+3*w/4+w2/6)\n",
    "\n",
    "def K(R):\n",
    "    \n",
    "    w = alpha*R\n",
    "    w2= w**2.0\n",
    "    \n",
    "    return -math.exp(-w)*(1+w)\n",
    "\n",
    "def Kp(R):\n",
    "    \n",
    "    w = alpha*R\n",
    "    w2= w**2.0\n",
    "    w3= w**3.0\n",
    "    \n",
    "    gamma = 0.577215665\n",
    "    \n",
    "    aa = 3.02E-01\n",
    "    bb = -2.02E+00\n",
    "    cc = 2.20E-01\n",
    "    dd = -2.05E-02\n",
    "    ee = 0.00E+00\n",
    "    \n",
    "    Eim2w = -math.exp(aa+bb*(2*w)+cc*(2*w)**2.0+dd*(2*w)**3.0+ee*(2*w)**4.0)\n",
    "    Eim4w = -math.exp(aa+bb*(4*w)+cc*(4*w)**2.0+dd*(4*w)**3.0+ee*(4*w)**4.0)\n",
    "    \n",
    "    s  = math.exp(-w)*(1+w+w2/3)\n",
    "    sp = math.exp(w)*(1-w+w2/3)\n",
    "    s2 = s**2.0\n",
    "    sp2= sp**2.0\n",
    "    \n",
    "    return 1/5*(-math.exp(-2*w)*(-25/8+23*w/4+3*w2+w3/3) \\\n",
    "              +6/w*(s2*(gamma+np.log(w))+sp2*Eim4w-2*s*sp*Eim2w))\n",
    "\n",
    "def L(R):\n",
    "    \n",
    "    w = alpha*R\n",
    "    w2= w*w\n",
    "    \n",
    "    return math.exp(-w)*(w+1/8+5/(16*w)) + math.exp(-3*w)*(-1/8-5/(16*w))"
   ]
  },
  {
   "cell_type": "code",
   "execution_count": 6,
   "id": "863a7ddc",
   "metadata": {},
   "outputs": [],
   "source": [
    "def int_exp_rab(R):\n",
    "\n",
    "    integrand= lambda x,y,z: (np.exp(-alpha*np.sqrt(x**2+y**2+(z-R/2)**2))+np.exp(-alpha*np.sqrt(x**2+y**2+(z+R/2)**2)))**(8/3)\n",
    "\n",
    "    return nquad(integrand, [[-np.inf, np.inf],[-np.inf, np.inf],[-np.inf, np.inf]])[0]"
   ]
  },
  {
   "cell_type": "code",
   "execution_count": 7,
   "id": "16d31ba2",
   "metadata": {
    "scrolled": false
   },
   "outputs": [
    {
     "name": "stdout",
     "output_type": "stream",
     "text": [
      "Starting calculation from R=0.50 to 1.40 Bohr .....\n",
      "\n",
      "Processing 1 of 3 ...\n",
      "                    >> completed (run time:00:00:00)\n",
      "\n",
      "Processing 2 of 3 ...\n",
      "                    >> completed (run time:00:00:00)\n",
      "\n",
      "Processing 3 of 3 ...\n",
      "                    >> completed (run time:00:00:00)\n",
      "\n",
      "DONE.\n",
      "\n"
     ]
    }
   ],
   "source": [
    "# Initialize empty lists to store HF_1s, XA_1s, HF_1s_KS, XA_1s_KS values\n",
    "HF_1s_OUT = []\n",
    "XA_1s_OUT = []\n",
    "HF_1s_KS_OUT = []\n",
    "XA_1s_KS_OUT = []\n",
    "\n",
    "# Folder path\n",
    "folder_path = 'csv'\n",
    "\n",
    "# Check if the directory exists, if not, create it\n",
    "if not os.path.exists(folder_path):\n",
    "    os.makedirs(folder_path)\n",
    "\n",
    "# Open the CSV files in write mode inside the 'csv' folder\n",
    "with open(f'{folder_path}/HF_1s_OUT.csv', 'w', newline='') as fHF_1s, \\\n",
    "     open(f'{folder_path}/XA_1s_OUT.csv', 'w', newline='') as fXA_1s, \\\n",
    "     open(f'{folder_path}/HF_1s_KS_OUT.csv', 'w', newline='') as fHF_1s_KS, \\\n",
    "     open(f'{folder_path}/XA_1s_KS_OUT.csv', 'w', newline='') as fXA_1s_KS:\n",
    "    # Your code to write to the files or perform other operations goes here\n",
    "\n",
    "\n",
    "    # Create CSV writer objects\n",
    "    HF_1s_writer = csv.writer(fHF_1s)\n",
    "    XA_1s_writer = csv.writer(fXA_1s)\n",
    "    HF_1s_KS_writer = csv.writer(fHF_1s_KS)\n",
    "    XA_1s_KS_writer = csv.writer(fXA_1s_KS)\n",
    "\n",
    "    # Write the headers to the CSV files    \n",
    "    HF_1s_writer.writerow(['R', 'ET', 'EV', 'EJ', 'EX', 'EN', 'E_TOTAL'])\n",
    "    XA_1s_writer.writerow(['R', 'ET', 'EV', 'EJ', 'EX', 'EN', 'E_TOTAL'])\n",
    "    HF_1s_KS_writer.writerow(['R', 'E1_HF', 'mEJ', 'EN', 'E_TOTAL'])\n",
    "    XA_1s_KS_writer.writerow(['R', 'E1_HF', 'mEJ', 'EN', 'E_TOTAL'])\n",
    "    \n",
    "    print(f\"Starting calculation from R={bond_length[0]:.2f} to {bond_length[len(bond_length)-1]:.2f} Bohr .....\")\n",
    "    print('')\n",
    "\n",
    "    # Loop to simulate your calculations for HF_1s, XA_1s, HF_1s_KS, XA_1s_KS\n",
    "    for i in range(len(bond_length)):\n",
    "        \n",
    "        # Get the current datetime\n",
    "        current_time = datetime.now()\n",
    "\n",
    "        R = bond_length[i]\n",
    "        \n",
    "        print(f\"Processing {i+1} of {len(bond_length)} ...\")\n",
    "        \n",
    "        # For HF_1s values\n",
    "        ET = 2*alpha**2.0/(2.0*(1+S(R)))*(1-2*K(R)-S(R))\n",
    "        EV = 2*alpha/(1+S(R))*(-1+J(R)+2*K(R))\n",
    "        EJ = 2*alpha/(2*(1+S(R))**2.0) * (5/8+Jp(R)+4*L(R)+2*Kp(R))\n",
    "        EX_HF = 0#-(9/8)*(2/3)*((3/math.pi)**(1/3))*(((alpha**3)/(math.pi*(1+S(R))))**(4/3))*int_exp_rab(R)\n",
    "        EN = 1/R\n",
    "        E_TOT_HF = ET+EV+EJ+EX_HF+EN #Total electronic energy for HF_1s\n",
    "        \n",
    "        HF_1s = (R, ET, EV, EJ, EX_HF, EN, E_TOT_HF)\n",
    "        HF_1s_OUT.append(HF_1s)\n",
    "        HF_1s_writer.writerow([R, ET, EV, EJ, EX_HF, EN, E_TOT_HF])\n",
    "\n",
    "        # For XA_1s values        \n",
    "        EX_XA = EX_HF/(2/3)*0.7\n",
    "        E_TOT_XA = ET+EV+EJ+EX_XA+EN #Total electronic energy for XA_1s\n",
    "\n",
    "        XA_1s = (R, ET, EV, EJ, EX_XA, EN, E_TOT_XA)\n",
    "        XA_1s_OUT.append(XA_1s)\n",
    "        XA_1s_writer.writerow([R, ET, EV, EJ, EX_XA, EN, E_TOT_XA])\n",
    "\n",
    "        # For HF_1s_KS values\n",
    "        E1_HF = ET+EV+2*EJ+EX_HF\n",
    "        mEJ = -EJ\n",
    "        E_TOT_HF_KS = E1_HF+mEJ+EN #Total electronic energy for HF_1s_ks\n",
    "\n",
    "        HF_1s_KS = (R, E1_HF, mEJ, EN, E_TOT_HF_KS)\n",
    "        HF_1s_KS_OUT.append(HF_1s_KS)\n",
    "        HF_1s_KS_writer.writerow([R, E1_HF, mEJ, EN, E_TOT_HF_KS])\n",
    "\n",
    "        # For XA_1s_KS values\n",
    "        E1_XA = ET+EV+2*EJ+EX_XA\n",
    "        E_TOT_XA_KS = E1_XA+mEJ+EN #Total electronic energy for XA_1s_ks\n",
    "        \n",
    "        XA_1s_KS = (R, E1_XA, mEJ, EN, E_TOT_XA_KS)\n",
    "        XA_1s_KS_OUT.append(XA_1s_KS)\n",
    "        XA_1s_KS_writer.writerow([R, E1_XA, mEJ, EN, E_TOT_XA_KS])\n",
    "        \n",
    "        # Calculate the elapsed time \n",
    "        elapsed_time = datetime.now() - current_time\n",
    "\n",
    "        # Calculate the hours, minutes, and seconds from the elapsed time\n",
    "        hours = elapsed_time.seconds // 3600\n",
    "        minutes = (elapsed_time.seconds // 60) % 60\n",
    "        seconds = elapsed_time.seconds % 60\n",
    "\n",
    "        # Format the elapsed time to display hours, minutes, and seconds without decimal places\n",
    "        formatted_time = f\"{hours:02}:{minutes:02}:{seconds:02}\"\n",
    "                \n",
    "        print(f\"{'>> completed':>32} (run time:{formatted_time})\")\n",
    "        print('')\n",
    "\n",
    "    print(f\"DONE.\")\n",
    "    print('')"
   ]
  },
  {
   "cell_type": "code",
   "execution_count": 8,
   "id": "b6f3c940",
   "metadata": {},
   "outputs": [
    {
     "name": "stdout",
     "output_type": "stream",
     "text": [
      "Table Energy for HF_1s\n",
      "         R         ET         EV         EJ         EX         EN    E_TOTAL\n",
      "    0.5000     1.4284    -4.6007     1.5145     0.0000     2.0000     0.3421\n",
      "    1.0000     1.2837    -4.0745     1.4292     0.0000     1.0000    -0.3616\n",
      "    1.4000     1.2095    -3.7239     1.3493     0.0000     0.7143    -0.4508\n",
      "\n",
      "Table Energy for XA_1s\n",
      "         R         ET         EV         EJ         EX         EN    E_TOTAL\n",
      "    0.5000     1.4284    -4.6007     1.5145     0.0000     2.0000     0.3421\n",
      "    1.0000     1.2837    -4.0745     1.4292     0.0000     1.0000    -0.3616\n",
      "    1.4000     1.2095    -3.7239     1.3493     0.0000     0.7143    -0.4508\n",
      "\n",
      "Table Energy for HF_1s_KS\n",
      "         R      E1_HF        mEJ         EN    E_TOTAL\n",
      "    0.5000    -0.1434    -1.5145     2.0000     0.3421\n",
      "    1.0000     0.0676    -1.4292     1.0000    -0.3616\n",
      "    1.4000     0.1842    -1.3493     0.7143    -0.4508\n",
      "\n",
      "Table Energy for XA_1s_KS\n",
      "         R      E1_XA        mEJ         EN    E_TOTAL\n",
      "    0.5000    -0.1434    -1.5145     2.0000     0.3421\n",
      "    1.0000     0.0676    -1.4292     1.0000    -0.3616\n",
      "    1.4000     0.1842    -1.3493     0.7143    -0.4508\n"
     ]
    }
   ],
   "source": [
    "# Print separate tables for each variable\n",
    "# Table for HF_1s values\n",
    "print(\"Table Energy for HF_1s\")\n",
    "print(f\"{'R':>10} {'ET':>10} {'EV':>10} {'EJ':>10} {'EX':>10} {'EN':>10} {'E_TOTAL':>10}\")\n",
    "for (R, ET, EV, EJ, EX_HF, EN, E_TOT_HF) in HF_1s_OUT:\n",
    "    print(f\"{R:>10.4f} {ET:>10.4f} {EV:>10.4f} {EJ:>10.4f} {EX_HF:>10.4f} {EN:>10.4f} {E_TOT_HF:>10.4f}\")\n",
    "\n",
    "# Table for XA_1s values\n",
    "print(\"\\nTable Energy for XA_1s\")\n",
    "print(f\"{'R':>10} {'ET':>10} {'EV':>10} {'EJ':>10} {'EX':>10} {'EN':>10} {'E_TOTAL':>10}\")\n",
    "for (R, ET, EV, EJ, EX_XA, EN, E_TOT_XA) in XA_1s_OUT:\n",
    "    print(f\"{R:>10.4f} {ET:>10.4f} {EV:>10.4f} {EJ:>10.4f} {EX_XA:>10.4f} {EN:>10.4f} {E_TOT_XA:>10.4f}\")\n",
    "\n",
    "# Table for HF_1s_KS values\n",
    "print(\"\\nTable Energy for HF_1s_KS\")\n",
    "print(f\"{'R':>10} {'E1_HF':>10} {'mEJ':>10} {'EN':>10} {'E_TOTAL':>10}\")\n",
    "for (R, E1_HF, mEJ, EN, E_TOT_HF_KS) in HF_1s_KS_OUT:\n",
    "    print(f\"{R:>10.4f} {E1_HF:>10.4f} {mEJ:>10.4f} {EN:>10.4f} {E_TOT_HF_KS:>10.4f}\")\n",
    "\n",
    "# Table for XA_1s_KS values\n",
    "print(\"\\nTable Energy for XA_1s_KS\")\n",
    "print(f\"{'R':>10} {'E1_XA':>10} {'mEJ':>10} {'EN':>10} {'E_TOTAL':>10}\")\n",
    "for (R, E1_XA, mEJ, EN, E_TOT_XA_KS) in XA_1s_KS_OUT:\n",
    "    print(f\"{R:>10.4f} {E1_XA:>10.4f} {mEJ:>10.4f} {EN:>10.4f} {E_TOT_XA_KS:>10.4f}\")"
   ]
  },
  {
   "cell_type": "code",
   "execution_count": 9,
   "id": "3bc9023c",
   "metadata": {},
   "outputs": [
    {
     "data": {
      "image/png": "[encoded data removed]",
      "text/plain": [
       "<Figure size 1200x1200 with 1 Axes>"
      ]
     },
     "metadata": {},
     "output_type": "display_data"
    }
   ],
   "source": [
    "# Apply the default Seaborn theme\n",
    "sns.set_theme()\n",
    "\n",
    "# Get the Seaborn color palette\n",
    "colors = sns.color_palette(\"tab10\",10)\n",
    "\n",
    "fig, ax = plt.subplots(figsize=(12, 12))\n",
    "\n",
    "#ax.set(xlim=(0.3, 3.2), ylim=(-1.1,-0.2)) \n",
    "\n",
    "# Scatter plots with Seaborn colors and modified marker size\n",
    "ax.scatter(bond_length, [x[-1] for x in HF_1s_OUT], color=colors[0], marker='o', s=60, label=\"HFS/1$s$\")\n",
    "ax.scatter(bond_length, [x[-1] for x in XA_1s_OUT], color=colors[1], marker='s', s=60, label=\"X-Alpha/1$s$\")\n",
    "\n",
    "ax.set_xlabel(\"Bond length (bohr)\", fontsize=26)\n",
    "ax.set_ylabel(r'Total energy H$_2$ (hartree)', fontsize=26)\n",
    "\n",
    "# Add legend to the main plot with manually set location and white background\n",
    "ax.legend(fontsize=18, facecolor='white')\n",
    "\n",
    "plt.xticks(fontsize=20)\n",
    "plt.yticks(fontsize=20)\n",
    "\n",
    "plt.show()\n"
   ]
  },
  {
   "cell_type": "code",
   "execution_count": null,
   "id": "b4adedd0",
   "metadata": {},
   "outputs": [],
   "source": []
  }
 ],
 "metadata": {
  "kernelspec": {
   "display_name": "Python 3 (ipykernel)",
   "language": "python",
   "name": "python3"
  },
  "language_info": {
   "codemirror_mode": {
    "name": "ipython",
    "version": 3
   },
   "file_extension": ".py",
   "mimetype": "text/x-python",
   "name": "python",
   "nbconvert_exporter": "python",
   "pygments_lexer": "ipython3",
   "version": "3.9.13"
  }
 },
 "nbformat": 4,
 "nbformat_minor": 5
}
