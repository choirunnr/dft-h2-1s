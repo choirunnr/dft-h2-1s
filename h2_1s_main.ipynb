{
 "cells": [
  {
   "cell_type": "markdown",
   "id": "3152e4b2",
   "metadata": {},
   "source": [
    "# Main Page\n",
    "\n",
    "This is the main page of our module. You can navigate to different notebooks from here.\n",
    "\n",
    "- [Part 1 - Density Function Calculation](./h2_1s_density.ipynb)\n",
    "- [Part 2 - Energy Calculation](./h2_1s_energy.ipynb)"
   ]
  }
 ],
 "metadata": {
  "kernelspec": {
   "display_name": "Python 3 (ipykernel)",
   "language": "python",
   "name": "python3"
  },
  "language_info": {
   "codemirror_mode": {
    "name": "ipython",
    "version": 3
   },
   "file_extension": ".py",
   "mimetype": "text/x-python",
   "name": "python",
   "nbconvert_exporter": "python",
   "pygments_lexer": "ipython3",
   "version": "3.9.13"
  }
 },
 "nbformat": 4,
 "nbformat_minor": 5
}
