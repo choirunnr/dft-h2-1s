{
 "cells": [
  {
   "cell_type": "markdown",
   "id": "d508e4db",
   "metadata": {},
   "source": [
    "---\n",
    "# Density Functional Theory for H<sub>2</sub> Molecule\n",
    "## Part 1 - Calculation of Density Fuctional\n",
    "#### [C. N. Rangkuti ](https://quasi.id/team/staff/choi002.html) - [Research Center for Quantum Physics, BRIN, Indonesia](https://quantumresearch.id/)\n",
    "\n",
    "---"
   ]
  },
  {
   "cell_type": "markdown",
   "id": "58f102eb",
   "metadata": {},
   "source": [
    "The 1s Slater type orbital (STO) has the same expression as the 1s hydrogen atom orbital"
   ]
  },
  {
   "cell_type": "code",
   "execution_count": null,
   "id": "9a45e2b6",
   "metadata": {},
   "outputs": [],
   "source": [
    "import math\n",
    "import numpy as np\n",
    "\n",
    "import matplotlib.pyplot as plt\n",
    "from ipywidgets import interact, FloatSlider\n",
    "import seaborn as sns "
   ]
  },
  {
   "cell_type": "code",
   "execution_count": null,
   "id": "71220285",
   "metadata": {},
   "outputs": [],
   "source": [
    "# Apply seaborn styling\n",
    "sns.set()  \n",
    "\n",
    "alpha = 1.24  \n",
    "\n",
    "def distance(x, y):\n",
    "    return np.sqrt(x ** 2 + y ** 2)\n",
    "\n",
    "def S(R):\n",
    "    w = alpha * R\n",
    "    w2 = w * w\n",
    "    return math.exp(-w) * (1 + w + w2 / 3)   \n",
    "\n",
    "def plot_func(R):\n",
    "    d = 2.0\n",
    "    x = np.linspace(-d, d, 100)\n",
    "    y = np.linspace(-d, d, 100)\n",
    "    \n",
    "    X, Y = np.meshgrid(x, y)\n",
    "    \n",
    "    ra = distance(X - R / 2, Y)\n",
    "    rb = distance(X + R / 2, Y)\n",
    "    \n",
    "    Z = (alpha**3 / (math.pi * (1 + S(R)))) * (np.exp(-alpha * ra) + np.exp(-alpha * rb)) ** 2\n",
    "    \n",
    "    plt.figure(figsize=(18, 8))\n",
    "    \n",
    "    plt.subplot(1, 2, 1)\n",
    "    plt.contourf(X, Y, Z, cmap='viridis')\n",
    "    plt.title(f'Density in 2D for R = {R:.2f} (bohr)', fontsize=24)\n",
    "    cbar = plt.colorbar()\n",
    "    cbar.set_label('Density', fontsize=24, labelpad=25)\n",
    "    cbar.ax.tick_params(labelsize=22)\n",
    "\n",
    "    plt.xlabel('Position - $x$ (bohr)', fontsize=24)\n",
    "    plt.ylabel('Position - $y$ (bohr)', fontsize=24)  # Added labelpad here\n",
    "    plt.tick_params(axis='both', which='major', labelsize=22)\n",
    "    \n",
    "    ra_1d = distance(x - R / 2, 0)\n",
    "    rb_1d = distance(x + R / 2, 0)\n",
    "    density_1d = (np.exp(-alpha * ra_1d) + np.exp(-alpha * rb_1d)) ** 2\n",
    "    \n",
    "    plt.subplot(1, 2, 2)\n",
    "    plt.plot(x, density_1d, linewidth=3)\n",
    "    \n",
    "    # Add vertical lines at the two maxima\n",
    "    offset = 0.1\n",
    "    \n",
    "    plt.axvline(-R/2, color='r', linestyle='--', linewidth=2)\n",
    "    plt.axvline(R/2, color='r', linestyle='--', linewidth=2)\n",
    "    \n",
    "    # Add labels to the vertical lines\n",
    "    plt.text(-R/2 - offset, np.max(density_1d) * 0.1, f'$x$ = {-R/2:.2f}', color='r', fontsize=18, ha='right')  \n",
    "    plt.text(R/2 + offset, np.max(density_1d) * 0.1, f'$x$ = {R/2:.2f}', color='r', fontsize=18, ha='left')  \n",
    "    \n",
    "    plt.title('Density in 1D at $y$ = 0', fontsize=24)\n",
    "    plt.xlabel('Position - $x$ (bohr)', fontsize=24)\n",
    "    #plt.ylabel('Density', fontsize=24) \n",
    "    plt.tick_params(axis='both', which='major', labelsize=22)\n",
    "    \n",
    "    plt.tight_layout()\n",
    "    plt.show()\n",
    "\n",
    "interact(plot_func, R=FloatSlider(min=0, max=3, step=0.1, value=1.4, description='R (Bohr)'))\n"
   ]
  }
 ],
 "metadata": {
  "kernelspec": {
   "display_name": "Python 3 (ipykernel)",
   "language": "python",
   "name": "python3"
  },
  "language_info": {
   "codemirror_mode": {
    "name": "ipython",
    "version": 3
   },
   "file_extension": ".py",
   "mimetype": "text/x-python",
   "name": "python",
   "nbconvert_exporter": "python",
   "pygments_lexer": "ipython3",
   "version": "3.9.13"
  }
 },
 "nbformat": 4,
 "nbformat_minor": 5
}
