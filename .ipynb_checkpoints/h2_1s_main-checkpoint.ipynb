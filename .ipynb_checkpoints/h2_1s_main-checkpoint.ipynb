{
 "cells": [
  {
   "cell_type": "markdown",
   "id": "3152e4b2",
   "metadata": {},
   "source": [
    "---\n",
    "# Density Functional Theory for H<sub>2</sub> Molecule\n",
    "## An Interactive Module\n",
    "#### [C. N. Rangkuti ](https://quasi.id/team/staff/choi002.html) - [Research Center for Quantum Physics, BRIN, Indonesia](https://quantumresearch.id/)\n",
    "\n",
    "---\n",
    "\n",
    "Welcome to this interactive module of Density Functional Theory (DFT) for H<sub>2</sub> molecule. This notebook aims to provide both theoretical insights and practical implementations for students and lecturers.\n",
    "\n",
    "In this notebook, we have divided the content into two parts:\n",
    "- [Part 1 - Density Calculation](./h2_1s_density.ipynb)\n",
    "- [Part 2 - Energy Calculation](./h2_1s_energy.ipynb)"
   ]
  },
  {
   "cell_type": "code",
   "execution_count": null,
   "id": "e4560939",
   "metadata": {},
   "outputs": [],
   "source": []
  }
 ],
 "metadata": {
  "kernelspec": {
   "display_name": "Python 3 (ipykernel)",
   "language": "python",
   "name": "python3"
  },
  "language_info": {
   "codemirror_mode": {
    "name": "ipython",
    "version": 3
   },
   "file_extension": ".py",
   "mimetype": "text/x-python",
   "name": "python",
   "nbconvert_exporter": "python",
   "pygments_lexer": "ipython3",
   "version": "3.9.13"
  }
 },
 "nbformat": 4,
 "nbformat_minor": 5
}
